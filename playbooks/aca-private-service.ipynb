{
 "cells": [
  {
   "cell_type": "markdown",
   "id": "84cc4dcb",
   "metadata": {},
   "source": [
    "# Private Azure Container Apps Deployment Playbook\n",
    "\n",
    "This interactive notebook guides you through deploying a private Azure Container Apps service with VNet integration using Azure CLI commands. You can run each cell individually or execute them in sequence to complete the full private network deployment.\n",
    "\n",
    "## Overview\n",
    "\n",
    "This notebook will help you:\n",
    "- Install Azure CLI prerequisites\n",
    "- Authenticate with Azure\n",
    "- Create a Virtual Network with proper subnet configuration\n",
    "- Deploy a private Container Apps Environment with VNet integration\n",
    "- Create a private Container App with internal ingress\n",
    "- Set up a jumper Container App for testing private connectivity\n",
    "- Configure private endpoints and DNS\n",
    "- Test private network access\n",
    "- Clean up resources when done\n",
    "\n",
    "**Note:** Make sure you have appropriate permissions in your Azure subscription to create networking resources, private endpoints, and Container Apps."
   ]
  },
  {
   "cell_type": "markdown",
   "id": "c9e7440b",
   "metadata": {},
   "source": [
    "## 1. Install Azure CLI Prerequisites\n",
    "\n",
    "First, check that the Azure CLI and containerapps extension is installed correctly.\n",
    "\n",
    "If running in a devcontainer, this should all already be configured"
   ]
  },
  {
   "cell_type": "code",
   "execution_count": null,
   "id": "77a987e3",
   "metadata": {
    "vscode": {
     "languageId": "shellscript"
    }
   },
   "outputs": [],
   "source": [
    "# Check Azure CLI Prerequisites\n",
    "echo \"🔍 Checking Azure CLI prerequisites...\"\n",
    "echo \"\"\n",
    "\n",
    "# Check if Azure CLI is installed\n",
    "if command -v az &> /dev/null; then\n",
    "    echo \"✅ Azure CLI is installed: $(az version --query '\"azure-cli\"' -o tsv)\"\n",
    "else\n",
    "    echo \"❌ ERROR: Azure CLI is not installed!\"\n",
    "    echo \"\"\n",
    "    echo \"📋 To install Azure CLI:\"\n",
    "    echo \"  • On macOS: brew install azure-cli\"\n",
    "    echo \"  • On Ubuntu/Debian: curl -sL https://aka.ms/InstallAzureCLIDeb | sudo bash\"\n",
    "    echo \"  • On Windows: winget install Microsoft.AzureCLI\"\n",
    "    echo \"  • Or visit: https://docs.microsoft.com/en-us/cli/azure/install-azure-cli\"\n",
    "    echo \"\"\n",
    "    exit 1\n",
    "fi\n",
    "\n",
    "# Check if Container Apps extension is installed\n",
    "if az extension list --query \"[?name=='containerapp'].name\" -o tsv | grep -q \"containerapp\"; then\n",
    "    echo \"✅ Container Apps extension is installed\"\n",
    "else\n",
    "    echo \"⚠️  WARNING: Container Apps extension is not installed!\"\n",
    "    echo \"\"\n",
    "    echo \"📋 To install the extension, run:\"\n",
    "    echo \"  az extension add --name containerapp --upgrade\"\n",
    "    echo \"\"\n",
    "fi\n",
    "\n",
    "echo \"\"\n",
    "echo \"🎯 Prerequisites check complete!\""
   ]
  },
  {
   "cell_type": "markdown",
   "id": "0ee049b5",
   "metadata": {},
   "source": [
    "## 2. Configure Azure Authentication\n",
    "\n",
    "Login to Azure and verify your subscription context."
   ]
  },
  {
   "cell_type": "code",
   "execution_count": null,
   "id": "43da91e1",
   "metadata": {
    "vscode": {
     "languageId": "shellscript"
    }
   },
   "outputs": [],
   "source": [
    "# Login to Azure (only if not already logged in)\n",
    "if ! az account show >/dev/null 2>&1; then\n",
    "  echo \"Not logged in to Azure. Logging in... (sub selection disabled)\"\n",
    "  az config set core.login_experience_v2=off\n",
    "  az login\n",
    "else\n",
    "  echo \"Already logged in to Azure.\"\n",
    "fi"
   ]
  },
  {
   "cell_type": "markdown",
   "id": "aceb822e",
   "metadata": {},
   "source": [
    "## 3. Set Deployment Variables\n",
    "\n",
    "Define the configuration variables for your private Container App deployment. You can modify these values as needed for your specific deployment."
   ]
  },
  {
   "cell_type": "code",
   "execution_count": null,
   "id": "3e29020d",
   "metadata": {
    "vscode": {
     "languageId": "shellscript"
    }
   },
   "outputs": [],
   "source": [
    "# Set variables for private setup with unique resource group name\n",
    "export LOCATION=\"uksouth\"\n",
    "export RESOURCE_GROUP=\"private-container-apps-rg\"\n",
    "export VNET_NAME=\"private-vnet\"\n",
    "export SUBNET_NAME=\"container-apps-subnet\"\n",
    "export CONTAINER_APP_ENV=\"private-container-app-env\"\n",
    "export CONTAINER_APP_NAME=\"private-hello-world-app\"\n",
    "export JUMPER_APP_NAME=\"jumper-container-app\"\n",
    "export PRIVATE_ENDPOINT_NAME=\"container-app-private-endpoint\"\n",
    "export PRIVATE_DNS_ZONE=\"privatelink.azurecontainerapps.io\"\n",
    "\n",
    "# Display the variables\n",
    "echo \"Resource Group:     $RESOURCE_GROUP\"\n",
    "echo \"Location:           $LOCATION\"\n",
    "echo \"Virtual Network:    $VNET_NAME\"\n",
    "echo \"Subnet Name:        $SUBNET_NAME\"\n",
    "echo \"Container App Env:  $CONTAINER_APP_ENV\"\n",
    "echo \"Container App Name: $CONTAINER_APP_NAME\"\n",
    "echo \"Jumper App Name:    $JUMPER_APP_NAME\"\n",
    "echo \"Private Endpoint:   $PRIVATE_ENDPOINT_NAME\"\n",
    "echo \"Private DNS Zone:   $PRIVATE_DNS_ZONE\""
   ]
  },
  {
   "cell_type": "markdown",
   "id": "0719fb45",
   "metadata": {},
   "source": [
    "## 4. Register Resource Providers"
   ]
  },
  {
   "cell_type": "code",
   "execution_count": null,
   "id": "7829fe90",
   "metadata": {
    "vscode": {
     "languageId": "shellscript"
    }
   },
   "outputs": [],
   "source": [
    "# Register resource providers\n",
    "echo \"🔄 Registering resource providers...\"\n",
    "\n",
    "az provider register --namespace Microsoft.OperationalInsights\n",
    "az provider register --namespace Microsoft.Network\n",
    "\n",
    "echo \"⏳ Waiting for resource providers to be registered...\"\n",
    "\n",
    "# Wait for Microsoft.OperationalInsights to be registered\n",
    "while [ \"$(az provider show --namespace Microsoft.OperationalInsights --query registrationState -o tsv)\" != \"Registered\" ]; do\n",
    "    echo \"  • Microsoft.OperationalInsights: $(az provider show --namespace Microsoft.OperationalInsights --query registrationState -o tsv)\"\n",
    "    sleep 10\n",
    "done\n",
    "\n",
    "# Wait for Microsoft.Network to be registered\n",
    "while [ \"$(az provider show --namespace Microsoft.Network --query registrationState -o tsv)\" != \"Registered\" ]; do\n",
    "    echo \"  • Microsoft.Network: $(az provider show --namespace Microsoft.Network --query registrationState -o tsv)\"\n",
    "    sleep 10\n",
    "done\n",
    "\n",
    "echo \"✅ All resource providers are now registered!\"\n",
    "echo \"  • Microsoft.OperationalInsights: Registered\"\n",
    "echo \"  • Microsoft.Network: Registered\""
   ]
  },
  {
   "cell_type": "markdown",
   "id": "baffd86b",
   "metadata": {},
   "source": [
    "## 5. Create Azure Resource Group\n",
    "\n",
    "Create the resource group that will contain all your private Container App resources."
   ]
  },
  {
   "cell_type": "code",
   "execution_count": null,
   "id": "4fa3096b",
   "metadata": {
    "vscode": {
     "languageId": "shellscript"
    }
   },
   "outputs": [],
   "source": [
    "# Create resource group\n",
    "az group create \\\n",
    "  --name $RESOURCE_GROUP \\\n",
    "  --location $LOCATION"
   ]
  },
  {
   "cell_type": "markdown",
   "id": "fcd8c624",
   "metadata": {},
   "source": [
    "## 6. Create Virtual Network and Subnets\n",
    "\n",
    "Create the Virtual Network with the required subnet configuration for Container Apps."
   ]
  },
  {
   "cell_type": "code",
   "execution_count": null,
   "id": "cba65fa5",
   "metadata": {
    "vscode": {
     "languageId": "shellscript"
    }
   },
   "outputs": [],
   "source": [
    "# Create Virtual Network\n",
    "az network vnet create \\\n",
    "  --name $VNET_NAME \\\n",
    "  --resource-group $RESOURCE_GROUP \\\n",
    "  --location $LOCATION \\\n",
    "  --address-prefixes 10.0.0.0/16"
   ]
  },
  {
   "cell_type": "code",
   "execution_count": null,
   "id": "c830a53a",
   "metadata": {
    "vscode": {
     "languageId": "shellscript"
    }
   },
   "outputs": [],
   "source": [
    "# Create subnet for Container Apps (requires minimum /21 prefix)\n",
    "az network vnet subnet create \\\n",
    "  --name $SUBNET_NAME \\\n",
    "  --resource-group $RESOURCE_GROUP \\\n",
    "  --vnet-name $VNET_NAME \\\n",
    "  --address-prefixes 10.0.0.0/21 \\\n",
    "  --delegations 'Microsoft.App/environments'"
   ]
  },
  {
   "cell_type": "code",
   "execution_count": null,
   "id": "f953001d",
   "metadata": {
    "vscode": {
     "languageId": "shellscript"
    }
   },
   "outputs": [],
   "source": [
    "# Get subnet ID for Container Apps Environment\n",
    "SUBNET_ID=$(az network vnet subnet show \\\n",
    "  --name $SUBNET_NAME \\\n",
    "  --resource-group $RESOURCE_GROUP \\\n",
    "  --vnet-name $VNET_NAME \\\n",
    "  --query id \\\n",
    "  --output tsv)\n",
    "echo \"SUBNET_ID=$SUBNET_ID\""
   ]
  },
  {
   "cell_type": "markdown",
   "id": "8c20dc52",
   "metadata": {},
   "source": [
    "## 7. Create Private Container Apps Environment\n",
    "\n",
    "Create the Container Apps environment with VNet integration and internal-only access."
   ]
  },
  {
   "cell_type": "code",
   "execution_count": null,
   "id": "fd04077e",
   "metadata": {
    "vscode": {
     "languageId": "shellscript"
    }
   },
   "outputs": [],
   "source": [
    "# Create the Container Apps Environment with VNet integration\n",
    "az containerapp env create \\\n",
    "  --name $CONTAINER_APP_ENV \\\n",
    "  --resource-group $RESOURCE_GROUP \\\n",
    "  --location $LOCATION \\\n",
    "  --infrastructure-subnet-resource-id $SUBNET_ID \\\n",
    "  --internal-only true"
   ]
  },
  {
   "cell_type": "markdown",
   "id": "a0a5fc49",
   "metadata": {},
   "source": [
    "## 8. Deploy Private Container App\n",
    "\n",
    "Deploy the hello-world container application with internal ingress only."
   ]
  },
  {
   "cell_type": "code",
   "execution_count": null,
   "id": "62602c3d",
   "metadata": {
    "vscode": {
     "languageId": "shellscript"
    }
   },
   "outputs": [],
   "source": [
    "# Create the Container App (internal only)\n",
    "az containerapp create \\\n",
    "  --name $CONTAINER_APP_NAME \\\n",
    "  --resource-group $RESOURCE_GROUP \\\n",
    "  --environment $CONTAINER_APP_ENV \\\n",
    "  --image mcr.microsoft.com/azuredocs/containerapps-helloworld:latest \\\n",
    "  --target-port 80 \\\n",
    "  --ingress internal \\\n",
    "  --min-replicas 0 \\\n",
    "  --max-replicas 5 \\\n",
    "  --cpu 0.25 \\\n",
    "  --memory 0.5Gi"
   ]
  },
  {
   "cell_type": "markdown",
   "id": "70222d2d",
   "metadata": {},
   "source": [
    "## 9. Get Container App Internal URL\n",
    "\n",
    "Retrieve the internal URL of your deployed private container application."
   ]
  },
  {
   "cell_type": "code",
   "execution_count": null,
   "id": "beb2f521",
   "metadata": {
    "vscode": {
     "languageId": "shellscript"
    }
   },
   "outputs": [],
   "source": [
    "# Get the Container App internal URL\n",
    "CONTAINER_APP_INTERNAL_URL=$(az containerapp show \\\n",
    "  --name $CONTAINER_APP_NAME \\\n",
    "  --resource-group $RESOURCE_GROUP \\\n",
    "  --query properties.configuration.ingress.fqdn \\\n",
    "  --output tsv)\n",
    "\n",
    "echo \"Container App Internal URL: https://$CONTAINER_APP_INTERNAL_URL\""
   ]
  },
  {
   "cell_type": "markdown",
   "id": "11b373cd",
   "metadata": {},
   "source": [
    "## 10. Create Jumper Container App for Testing\n",
    "\n",
    "Create a jumper container app that can be used to test connectivity to the private container app."
   ]
  },
  {
   "cell_type": "code",
   "execution_count": null,
   "id": "1c20e589",
   "metadata": {
    "vscode": {
     "languageId": "shellscript"
    }
   },
   "outputs": [],
   "source": [
    "# Create YAML configuration file for the Jumper Container App\n",
    "cat > jumper-app-config.yaml << EOF\n",
    "location: uksouth\n",
    "type: Microsoft.App/containerApps\n",
    "name: $JUMPER_APP_NAME\n",
    "properties:\n",
    "  configuration:\n",
    "    activeRevisionsMode: Single\n",
    "  environmentId: /subscriptions/$(az account show --query id --output tsv)/resourceGroups/$RESOURCE_GROUP/providers/Microsoft.App/managedEnvironments/$CONTAINER_APP_ENV\n",
    "  template:\n",
    "    containers:\n",
    "    - name: jumper-container\n",
    "      image: mcr.microsoft.com/azure-cli:latest\n",
    "      command:\n",
    "      - /bin/bash\n",
    "      args:\n",
    "      - -c\n",
    "      - timeout 600 bash -c 'while true; do sleep 30; done' && echo 'Jumper container shutting down after 10 minutes'\n",
    "      resources:\n",
    "        cpu: 0.25\n",
    "        memory: 0.5Gi\n",
    "      env:\n",
    "      - name: APP_URL\n",
    "        value: https://$CONTAINER_APP_INTERNAL_URL\n",
    "    scale:\n",
    "      minReplicas: 0\n",
    "      maxReplicas: 1\n",
    "EOF"
   ]
  },
  {
   "cell_type": "code",
   "execution_count": null,
   "id": "c57b337f",
   "metadata": {
    "vscode": {
     "languageId": "shellscript"
    }
   },
   "outputs": [],
   "source": [
    "# Create the Jumper Container App using the YAML configuration\n",
    "az containerapp create \\\n",
    "  --name $JUMPER_APP_NAME \\\n",
    "  --resource-group $RESOURCE_GROUP \\\n",
    "  --yaml jumper-app-config.yaml"
   ]
  },
  {
   "cell_type": "markdown",
   "id": "5fc9b9af",
   "metadata": {},
   "source": [
    "## 11. Configure Private DNS\n",
    "\n",
    "Set up private DNS zone and VNet linking for internal name resolution."
   ]
  },
  {
   "cell_type": "code",
   "execution_count": null,
   "id": "37a077d9",
   "metadata": {
    "vscode": {
     "languageId": "shellscript"
    }
   },
   "outputs": [],
   "source": [
    "# Create a private DNS zone for Container Apps\n",
    "az network private-dns zone create \\\n",
    "  --name $PRIVATE_DNS_ZONE \\\n",
    "  --resource-group $RESOURCE_GROUP"
   ]
  },
  {
   "cell_type": "code",
   "execution_count": null,
   "id": "3d16ae29",
   "metadata": {
    "vscode": {
     "languageId": "shellscript"
    }
   },
   "outputs": [],
   "source": [
    "# Link the private DNS zone to the VNet\n",
    "az network private-dns link vnet create \\\n",
    "  --name \"container-apps-dns-link\" \\\n",
    "  --resource-group $RESOURCE_GROUP \\\n",
    "  --zone-name $PRIVATE_DNS_ZONE \\\n",
    "  --virtual-network $VNET_NAME \\\n",
    "  --registration-enabled false"
   ]
  },
  {
   "cell_type": "markdown",
   "id": "66dde2e4",
   "metadata": {},
   "source": [
    "## 12. Create Private Endpoint\n",
    "\n",
    "Set up private endpoint for secure access to the Container Apps Environment."
   ]
  },
  {
   "cell_type": "code",
   "execution_count": null,
   "id": "69a022a1",
   "metadata": {
    "vscode": {
     "languageId": "shellscript"
    }
   },
   "outputs": [],
   "source": [
    "# Create a private endpoint subnet (separate from container apps subnet)\n",
    "az network vnet subnet create \\\n",
    "  --name \"private-endpoint-subnet\" \\\n",
    "  --resource-group $RESOURCE_GROUP \\\n",
    "  --vnet-name $VNET_NAME \\\n",
    "  --address-prefixes 10.0.8.0/24"
   ]
  },
  {
   "cell_type": "code",
   "execution_count": null,
   "id": "7475a7c6",
   "metadata": {
    "vscode": {
     "languageId": "shellscript"
    }
   },
   "outputs": [],
   "source": [
    "# Get the Container Apps Environment resource ID\n",
    "CONTAINER_APP_ENV_ID=$(az containerapp env show \\\n",
    "  --name $CONTAINER_APP_ENV \\\n",
    "  --resource-group $RESOURCE_GROUP \\\n",
    "  --query id \\\n",
    "  --output tsv)\n",
    "echo \"CONTAINER_APP_ENV_ID=$CONTAINER_APP_ENV_ID\""
   ]
  },
  {
   "cell_type": "code",
   "execution_count": null,
   "id": "3b47063c",
   "metadata": {
    "vscode": {
     "languageId": "shellscript"
    }
   },
   "outputs": [],
   "source": [
    "# Create private endpoint for the Container Apps Environment\n",
    "az network private-endpoint create \\\n",
    "  --name $PRIVATE_ENDPOINT_NAME \\\n",
    "  --resource-group $RESOURCE_GROUP \\\n",
    "  --vnet-name $VNET_NAME \\\n",
    "  --subnet \"private-endpoint-subnet\" \\\n",
    "  --private-connection-resource-id $CONTAINER_APP_ENV_ID \\\n",
    "  --group-id managedEnvironments \\\n",
    "  --connection-name \"container-app-connection\""
   ]
  },
  {
   "cell_type": "markdown",
   "id": "47c380ef",
   "metadata": {},
   "source": [
    "## 13. Configure Private DNS Records\n",
    "\n",
    "Set up DNS records for the private endpoint to enable name resolution."
   ]
  },
  {
   "cell_type": "code",
   "execution_count": null,
   "id": "0501734b",
   "metadata": {
    "vscode": {
     "languageId": "shellscript"
    }
   },
   "outputs": [],
   "source": [
    "# Get the private endpoint's private IP\n",
    "PRIVATE_ENDPOINT_IP=$(az network private-endpoint show \\\n",
    "  --name $PRIVATE_ENDPOINT_NAME \\\n",
    "  --resource-group $RESOURCE_GROUP \\\n",
    "  --query 'customDnsConfigs[0].ipAddresses[0]' \\\n",
    "  --output tsv)\n",
    "echo \"PRIVATE_ENDPOINT_IP=$PRIVATE_ENDPOINT_IP\""
   ]
  },
  {
   "cell_type": "code",
   "execution_count": null,
   "id": "43ff4649",
   "metadata": {
    "vscode": {
     "languageId": "shellscript"
    }
   },
   "outputs": [],
   "source": [
    "# Create DNS record for the private endpoint\n",
    "az network private-dns record-set a create \\\n",
    "  --name $CONTAINER_APP_NAME \\\n",
    "  --resource-group $RESOURCE_GROUP \\\n",
    "  --zone-name $PRIVATE_DNS_ZONE"
   ]
  },
  {
   "cell_type": "code",
   "execution_count": null,
   "id": "7843146e",
   "metadata": {
    "vscode": {
     "languageId": "shellscript"
    }
   },
   "outputs": [],
   "source": [
    "# Add A record with private endpoint IP\n",
    "az network private-dns record-set a add-record \\\n",
    "  --record-set-name $CONTAINER_APP_NAME \\\n",
    "  --resource-group $RESOURCE_GROUP \\\n",
    "  --zone-name $PRIVATE_DNS_ZONE \\\n",
    "  --ipv4-address $PRIVATE_ENDPOINT_IP\n",
    "\n",
    "echo \"Private endpoint created with IP: $PRIVATE_ENDPOINT_IP\"\n",
    "echo \"Container App is accessible privately at: https://$CONTAINER_APP_INTERNAL_URL\""
   ]
  },
  {
   "cell_type": "markdown",
   "id": "1592659e",
   "metadata": {},
   "source": [
    "## 14. Test Private Access\n",
    "\n",
    "Use the jumper container app to test connectivity to your private Container App."
   ]
  },
  {
   "cell_type": "code",
   "execution_count": null,
   "id": "93bbf7d9",
   "metadata": {
    "vscode": {
     "languageId": "shellscript"
    }
   },
   "outputs": [],
   "source": [
    "# Output variables block for shell testing\n",
    "echo \"======== VARS FOR SHELL =========\"\n",
    "echo \"CONTAINER_APP_INTERNAL_URL=$CONTAINER_APP_INTERNAL_URL\"\n",
    "echo \"PRIVATE_ENDPOINT_IP=$PRIVATE_ENDPOINT_IP\"\n",
    "echo \"==================================\"\n",
    "\n",
    "echo \"======== COMMANDS FOR SHELL =====\"\n",
    "echo \"curl -k \\$CONTAINER_APP_INTERNAL_URL\"\n",
    "echo \"=================================\""
   ]
  },
  {
   "cell_type": "code",
   "execution_count": null,
   "id": "a063a4a5",
   "metadata": {
    "vscode": {
     "languageId": "shellscript"
    }
   },
   "outputs": [],
   "source": [
    "# Test connectivity using interactive shell (run this in a separate terminal)\n",
    "# This will open an interactive session in the jumper container\n",
    "az containerapp exec \\\n",
    "  --name $JUMPER_APP_NAME \\\n",
    "  --resource-group $RESOURCE_GROUP \\\n",
    "  --command \"/bin/sh\""
   ]
  },
  {
   "cell_type": "markdown",
   "id": "64897161",
   "metadata": {},
   "source": [
    "## 15. Verification Commands\n",
    "\n",
    "Run these commands to verify your deployment status and configuration."
   ]
  },
  {
   "cell_type": "code",
   "execution_count": null,
   "id": "460b894c",
   "metadata": {
    "vscode": {
     "languageId": "shellscript"
    }
   },
   "outputs": [],
   "source": [
    "# Check Container Apps Environment status\n",
    "az containerapp env show \\\n",
    "  --name $CONTAINER_APP_ENV \\\n",
    "  --resource-group $RESOURCE_GROUP \\\n",
    "  --query \"{name:name, location:location, vnetConfiguration:vnetConfiguration}\" \\\n",
    "  --output table"
   ]
  },
  {
   "cell_type": "code",
   "execution_count": null,
   "id": "f930ef8e",
   "metadata": {
    "vscode": {
     "languageId": "shellscript"
    }
   },
   "outputs": [],
   "source": [
    "# Check Container App status\n",
    "az containerapp show \\\n",
    "  --name $CONTAINER_APP_NAME \\\n",
    "  --resource-group $RESOURCE_GROUP \\\n",
    "  --query \"{name:name, provisioningState:properties.provisioningState, fqdn:properties.configuration.ingress.fqdn}\" \\\n",
    "  --output table"
   ]
  },
  {
   "cell_type": "code",
   "execution_count": null,
   "id": "1c3b3f5a",
   "metadata": {
    "vscode": {
     "languageId": "shellscript"
    }
   },
   "outputs": [],
   "source": [
    "# Check Jumper Container App status\n",
    "az containerapp show \\\n",
    "  --name $JUMPER_APP_NAME \\\n",
    "  --resource-group $RESOURCE_GROUP \\\n",
    "  --query \"{name:name, provisioningState:properties.provisioningState, replicas:properties.template.scale}\" \\\n",
    "  --output table"
   ]
  },
  {
   "cell_type": "code",
   "execution_count": null,
   "id": "1f7ff4b8",
   "metadata": {
    "vscode": {
     "languageId": "shellscript"
    }
   },
   "outputs": [],
   "source": [
    "# List private endpoints\n",
    "az network private-endpoint list \\\n",
    "  --resource-group $RESOURCE_GROUP \\\n",
    "  --query \"[].{name:name, provisioningState:provisioningState, privateEndpointIp:customDnsConfigs[0].ipAddresses[0]}\" \\\n",
    "  --output table"
   ]
  },
  {
   "cell_type": "code",
   "execution_count": null,
   "id": "0bc945d7",
   "metadata": {
    "vscode": {
     "languageId": "shellscript"
    }
   },
   "outputs": [],
   "source": [
    "# Note: Automated testing via az containerapp exec with multiple arguments\n",
    "# is not supported in the same way as kubectl exec. \n",
    "# Use the interactive shell method in section 16 instead.\n",
    "\n",
    "echo \"⚠️  Automated connectivity testing is not available via az containerapp exec\"\n",
    "echo \"🔧 Use the interactive shell method described in section 16 to test connectivity\"\n",
    "echo \"💡 Or run verification commands in section 15 to check deployment status\""
   ]
  },
  {
   "cell_type": "code",
   "execution_count": null,
   "id": "51c729cb",
   "metadata": {
    "vscode": {
     "languageId": "shellscript"
    }
   },
   "outputs": [],
   "source": [
    "# At this point, your private Container Apps environment is fully deployed\n",
    "# Continue to the next section to test connectivity manually\n",
    "exit 1\n",
    "echo \"✅ Private Container Apps deployment is complete!\"\n",
    "echo \"🔄 Proceed to section 16 to test connectivity using the jumper container\""
   ]
  },
  {
   "cell_type": "markdown",
   "id": "4e266d95",
   "metadata": {},
   "source": [
    "## 16. Play with Container\n",
    "\n",
    "Now you've a container app deployed. You can exec into the 'jumper' container, and start\n",
    "running commands against it.\n",
    "\n",
    "To exec into the jumper run this:\n",
    "\n",
    "```sh\n",
    "az containerapp exec \\\n",
    "   --name $JUMPER_APP_NAME \\\n",
    "   --resource-group $RESOURCE_GROUP \\\n",
    "   --command \"/bin/bash\"\n",
    "```\n",
    "\n",
    "And then to make a CURL against the app container, you can use the handy `APP_URL` env var:\n",
    "\n",
    "```sh\n",
    "curl $APP_URL\n",
    "```"
   ]
  },
  {
   "cell_type": "markdown",
   "id": "c5108d85",
   "metadata": {},
   "source": [
    "## 17. Cleanup Resources\n",
    "\n",
    "When you're done with your private Container App setup, use the following commands to clean up the resources to avoid ongoing charges.\n",
    "\n",
    "**⚠️ Warning:** These commands will permanently delete your resources. Make sure you no longer need them before proceeding."
   ]
  },
  {
   "cell_type": "code",
   "execution_count": null,
   "id": "704af5e5",
   "metadata": {
    "vscode": {
     "languageId": "shellscript"
    }
   },
   "outputs": [],
   "source": [
    "# Delete the entire resource group (this will delete all resources)\n",
    "# ⚠️ This will delete ALL resources in the resource group!\n",
    "az group delete \\\n",
    "  --name $RESOURCE_GROUP \\\n",
    "  --yes --no-wait"
   ]
  },
  {
   "cell_type": "code",
   "execution_count": null,
   "id": "14856e2d",
   "metadata": {
    "vscode": {
     "languageId": "shellscript"
    }
   },
   "outputs": [],
   "source": [
    "# Clean up local files\n",
    "rm -f jumper-app-config.yaml"
   ]
  },
  {
   "cell_type": "markdown",
   "id": "0fabfd49",
   "metadata": {},
   "source": [
    "## Summary\n",
    "\n",
    "🎉 **Congratulations!** You have successfully:\n",
    "\n",
    "1. ✅ Installed Azure CLI prerequisites\n",
    "2. ✅ Authenticated with Azure\n",
    "3. ✅ Set deployment variables\n",
    "4. ✅ Registered required resource providers\n",
    "5. ✅ Created a resource group\n",
    "6. ✅ Created a virtual network with proper subnet configuration\n",
    "7. ✅ Created a private Container Apps environment with VNet integration\n",
    "8. ✅ Deployed a private containerized application with internal ingress\n",
    "9. ✅ Retrieved the internal URL of your container app\n",
    "10. ✅ Created a jumper container app for testing\n",
    "11. ✅ Configured private DNS zone and VNet linking\n",
    "12. ✅ Set up private endpoints for secure access\n",
    "13. ✅ Configured DNS records for name resolution\n",
    "14. ✅ Tested private connectivity\n",
    "15. ✅ Verified deployment status\n",
    "16. ✅ Tested manual connectivity using the jumper container\n",
    "17. ✅ (Optional) Cleaned up resources\n",
    "\n",
    "## Key Differences from Public Setup\n",
    "\n",
    "- **VNet Integration**: Container Apps Environment created with `--internal-only true` and linked to a VNet subnet\n",
    "- **Private Ingress**: Container App uses `--ingress internal` instead of `--ingress external`\n",
    "- **Private Endpoints**: Created to provide private connectivity to the Container Apps Environment\n",
    "- **Private DNS**: Custom DNS zone for internal name resolution\n",
    "- **Jumper Container App**: A second Container App in the same VNet for testing private connectivity\n",
    "- **Scale-to-Zero Architecture**: Both apps can scale to zero when not in use, eliminating compute costs\n",
    "- **Container-to-Container Communication**: Uses native VNet connectivity between container apps\n",
    "- **No VM Dependencies**: Fully containerized testing approach without virtual machines\n",
    "\n",
    "## Cost Considerations\n",
    "\n",
    "**Daily Cost Estimate: ~$1.81 USD** (with no traffic)\n",
    "\n",
    "Key cost components:\n",
    "- **Private Endpoint**: $0.36/day ($10.80/month)\n",
    "- **Private DNS Zone**: $1.20/day ($15/month)\n",
    "- **Container Apps**: $0.00 when scaled to zero (pay only when processing requests)\n",
    "- **Jumper App**: $0.00 when idle (only costs during testing sessions)\n",
    "\n",
    "## Next Steps\n",
    "\n",
    "- **Deploy your own container**: Replace the hello-world image with your own containerized application\n",
    "- **Configure custom domains**: Set up custom domain names for your private Container Apps\n",
    "- **Implement CI/CD**: Set up automated deployments using GitHub Actions or Azure DevOps\n",
    "- **Add monitoring**: Configure Application Insights and Log Analytics for monitoring\n",
    "- **Scale testing**: Experiment with different replica counts and resource allocations\n",
    "- **Network security**: Add Network Security Groups and additional security layers\n",
    "\n",
    "For more advanced Container Apps features and private networking scenarios, check out the [Azure Container Apps documentation](https://docs.microsoft.com/azure/container-apps/)."
   ]
  }
 ],
 "metadata": {
  "kernelspec": {
   "display_name": "Bash",
   "language": "bash",
   "name": "bash"
  },
  "language_info": {
   "codemirror_mode": "shell",
   "file_extension": ".sh",
   "mimetype": "text/x-sh",
   "name": "bash"
  }
 },
 "nbformat": 4,
 "nbformat_minor": 5
}
