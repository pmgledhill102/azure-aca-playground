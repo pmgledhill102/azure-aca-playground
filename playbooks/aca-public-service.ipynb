{
 "cells": [
  {
   "cell_type": "markdown",
   "id": "452543c2",
   "metadata": {},
   "source": [
    "# Public Azure Container Apps Deployment Playbook\n",
    "\n",
    "This interactive notebook guides you through deploying a public Azure Container Apps service using Azure CLI commands. You can run each cell individually or execute them in sequence to complete the full public deployment.\n",
    "\n",
    "## Overview\n",
    "\n",
    "This notebook will help you:\n",
    "- Install Azure CLI prerequisites\n",
    "- Authenticate with Azure\n",
    "- Create a Container Apps Environment\n",
    "- Deploy a public Container App with external ingress\n",
    "- Retrieve the application URL\n",
    "- Test the deployment\n",
    "- Clean up resources when done\n",
    "\n",
    "**Note:** Make sure you have appropriate permissions in your Azure subscription to create Container Apps resources."
   ]
  },
  {
   "cell_type": "markdown",
   "id": "08c16077",
   "metadata": {},
   "source": [
    "## 1. Install Azure CLI Prerequisites\n",
    "\n",
    "First, check that the Azure CLI and containerapps extension is installed correctly.\n",
    "\n",
    "If running in a devcontainer, this should all already be configured"
   ]
  },
  {
   "cell_type": "code",
   "execution_count": null,
   "id": "b6db0b1e",
   "metadata": {
    "vscode": {
     "languageId": "shellscript"
    }
   },
   "outputs": [],
   "source": [
    "# Check Azure CLI Prerequisites\n",
    "echo \"🔍 Checking Azure CLI prerequisites...\"\n",
    "echo \"\"\n",
    "\n",
    "# Check if Azure CLI is installed\n",
    "if command -v az &> /dev/null; then\n",
    "    echo \"✅ Azure CLI is installed: $(az version --query '\"azure-cli\"' -o tsv)\"\n",
    "else\n",
    "    echo \"❌ ERROR: Azure CLI is not installed!\"\n",
    "    echo \"\"\n",
    "    echo \"📋 To install Azure CLI:\"\n",
    "    echo \"  • On macOS: brew install azure-cli\"\n",
    "    echo \"  • On Ubuntu/Debian: curl -sL https://aka.ms/InstallAzureCLIDeb | sudo bash\"\n",
    "    echo \"  • On Windows: winget install Microsoft.AzureCLI\"\n",
    "    echo \"  • Or visit: https://docs.microsoft.com/en-us/cli/azure/install-azure-cli\"\n",
    "    echo \"\"\n",
    "    exit 1\n",
    "fi\n",
    "\n",
    "# Check if Container Apps extension is installed\n",
    "if az extension list --query \"[?name=='containerapp'].name\" -o tsv | grep -q \"containerapp\"; then\n",
    "    echo \"✅ Container Apps extension is installed\"\n",
    "else\n",
    "    echo \"⚠️  WARNING: Container Apps extension is not installed!\"\n",
    "    echo \"\"\n",
    "    echo \"📋 To install the extension, run:\"\n",
    "    echo \"  az extension add --name containerapp --upgrade\"\n",
    "    echo \"\"\n",
    "fi\n",
    "\n",
    "echo \"\"\n",
    "echo \"🎯 Prerequisites check complete!\""
   ]
  },
  {
   "cell_type": "markdown",
   "id": "581cf7ed",
   "metadata": {},
   "source": [
    "## 2. Configure Azure Authentication\n",
    "\n",
    "Login to Azure and verify your subscription context."
   ]
  },
  {
   "cell_type": "code",
   "execution_count": null,
   "id": "72d11984",
   "metadata": {
    "vscode": {
     "languageId": "shellscript"
    }
   },
   "outputs": [],
   "source": [
    "# Login to Azure (only if not already logged in)\n",
    "if ! az account show >/dev/null 2>&1; then\n",
    "  echo \"Not logged in to Azure. Logging in... (sub selection disabled)\"\n",
    "  az config set core.login_experience_v2=off\n",
    "  az login\n",
    "else\n",
    "  echo \"Already logged in to Azure.\"\n",
    "fi"
   ]
  },
  {
   "cell_type": "markdown",
   "id": "b8e38991",
   "metadata": {
    "vscode": {
     "languageId": "shellscript"
    }
   },
   "source": [
    "## 3. Set Deployment Variables\n",
    "\n",
    "Define the configuration variables for your public Container App deployment. You can modify these values as needed for your specific deployment."
   ]
  },
  {
   "cell_type": "code",
   "execution_count": null,
   "id": "b7bbb971",
   "metadata": {
    "vscode": {
     "languageId": "shellscript"
    }
   },
   "outputs": [],
   "source": [
    "# Set variables for public setup with unique resource group name\n",
    "export LOCATION=\"uksouth\"\n",
    "export RESOURCE_GROUP=\"public-container-apps-rg\"\n",
    "export CONTAINER_APP_ENV=\"public-container-app-env\"\n",
    "export CONTAINER_APP_NAME=\"public-hello-world-app\"\n",
    "\n",
    "# Display the variables\n",
    "echo \"Resource Group:     $RESOURCE_GROUP\"\n",
    "echo \"Location:           $LOCATION\"\n",
    "echo \"Container App Env:  $CONTAINER_APP_ENV\"\n",
    "echo \"Container App Name: $CONTAINER_APP_NAME\""
   ]
  },
  {
   "cell_type": "markdown",
   "id": "1d122caa",
   "metadata": {},
   "source": [
    "## 4. Register Resource Providers"
   ]
  },
  {
   "cell_type": "code",
   "execution_count": null,
   "id": "145cef35",
   "metadata": {
    "vscode": {
     "languageId": "shellscript"
    }
   },
   "outputs": [],
   "source": [
    "# Register resource providers\n",
    "echo \"🔄 Registering resource providers...\"\n",
    "\n",
    "az provider register --namespace Microsoft.App\n",
    "az provider register --namespace Microsoft.OperationalInsights\n",
    "\n",
    "echo \"⏳ Waiting for resource providers to be registered...\"\n",
    "\n",
    "# Wait for Microsoft.App to be registered\n",
    "while [ \"$(az provider show --namespace Microsoft.App --query registrationState -o tsv)\" != \"Registered\" ]; do\n",
    "    echo \"  • Microsoft.App: $(az provider show --namespace Microsoft.App --query registrationState -o tsv)\"\n",
    "    sleep 10\n",
    "done\n",
    "\n",
    "# Wait for Microsoft.OperationalInsights to be registered  \n",
    "while [ \"$(az provider show --namespace Microsoft.OperationalInsights --query registrationState -o tsv)\" != \"Registered\" ]; do\n",
    "    echo \"  • Microsoft.OperationalInsights: $(az provider show --namespace Microsoft.OperationalInsights --query registrationState -o tsv)\"\n",
    "    sleep 10\n",
    "done\n",
    "\n",
    "echo \"✅ All resource providers are now registered!\"\n",
    "echo \"  • Microsoft.App: Registered\"\n",
    "echo \"  • Microsoft.OperationalInsights: Registered\""
   ]
  },
  {
   "cell_type": "markdown",
   "id": "fcfb0b4b",
   "metadata": {},
   "source": [
    "## 5. Create Azure Resource Group\n",
    "\n",
    "Create the resource group that will contain all your public Container App resources."
   ]
  },
  {
   "cell_type": "code",
   "execution_count": null,
   "id": "b28796bd",
   "metadata": {
    "vscode": {
     "languageId": "shellscript"
    }
   },
   "outputs": [],
   "source": [
    "# Create resource group if it doesn't exist\n",
    "az group create \\\n",
    "  --name $RESOURCE_GROUP \\\n",
    "  --location $LOCATION"
   ]
  },
  {
   "cell_type": "markdown",
   "id": "cb1a6dd5",
   "metadata": {},
   "source": [
    "## 6. Create Container Apps Environment\n",
    "\n",
    "Create the Container Apps environment that will host your container applications."
   ]
  },
  {
   "cell_type": "code",
   "execution_count": null,
   "id": "8b6cafc5",
   "metadata": {
    "vscode": {
     "languageId": "shellscript"
    }
   },
   "outputs": [],
   "source": [
    "# Create the Container Apps Environment\n",
    "az containerapp env create \\\n",
    "  --name $CONTAINER_APP_ENV \\\n",
    "  --resource-group $RESOURCE_GROUP \\\n",
    "  --location $LOCATION"
   ]
  },
  {
   "cell_type": "markdown",
   "id": "dd5ba80c",
   "metadata": {},
   "source": [
    "## 7. Deploy Public Container App\n",
    "\n",
    "Deploy the hello-world container application with external ingress for public access."
   ]
  },
  {
   "cell_type": "code",
   "execution_count": null,
   "id": "d5013fe1",
   "metadata": {
    "vscode": {
     "languageId": "shellscript"
    }
   },
   "outputs": [],
   "source": [
    "# Create the Container App\n",
    "az containerapp create \\\n",
    "  --name $CONTAINER_APP_NAME \\\n",
    "  --resource-group $RESOURCE_GROUP \\\n",
    "  --environment $CONTAINER_APP_ENV \\\n",
    "  --image mcr.microsoft.com/azuredocs/containerapps-helloworld:latest \\\n",
    "  --target-port 80 \\\n",
    "  --ingress external \\\n",
    "  --min-replicas 0 \\\n",
    "  --max-replicas 5 \\\n",
    "  --cpu 0.25 \\\n",
    "  --memory 0.5Gi"
   ]
  },
  {
   "cell_type": "markdown",
   "id": "790e0e49",
   "metadata": {},
   "source": [
    "## 8. Retrieve Container App URL\n",
    "\n",
    "Get the publicly accessible URL of your deployed container application."
   ]
  },
  {
   "cell_type": "code",
   "execution_count": null,
   "id": "67eaa9dd",
   "metadata": {
    "vscode": {
     "languageId": "shellscript"
    }
   },
   "outputs": [],
   "source": [
    "# Get the Container App URL\n",
    "CONTAINER_APP_URL=$(az containerapp show \\\n",
    "  --name $CONTAINER_APP_NAME \\\n",
    "  --resource-group $RESOURCE_GROUP \\\n",
    "  --query properties.configuration.ingress.fqdn \\\n",
    "  --output tsv)\n",
    "\n",
    "echo \"Container App URL: https://$CONTAINER_APP_URL\""
   ]
  },
  {
   "cell_type": "markdown",
   "id": "3560a8e6",
   "metadata": {},
   "source": [
    "## 9. Test Public Access\n",
    "\n",
    "Test connectivity to your publicly deployed Container App."
   ]
  },
  {
   "cell_type": "code",
   "execution_count": null,
   "id": "abeb602d",
   "metadata": {
    "vscode": {
     "languageId": "shellscript"
    }
   },
   "outputs": [],
   "source": [
    "# Test the Container App URL\n",
    "echo \"🔍 Testing Container App connectivity...\"\n",
    "echo \"Container App URL: https://$CONTAINER_APP_URL\"\n",
    "echo \"\"\n",
    "\n",
    "# Test with curl\n",
    "if command -v curl &> /dev/null; then\n",
    "    echo \"📡 Testing with curl...\"\n",
    "    curl -s -o /dev/null -w \"Response code: %{http_code}\\nTotal time: %{time_total}s\\n\" \"https://$CONTAINER_APP_URL\" || echo \"❌ Curl test failed\"\n",
    "    echo \"\"\n",
    "fi\n",
    "\n",
    "# Also test with wget as fallback\n",
    "if command -v wget &> /dev/null; then\n",
    "    echo \"📡 Testing with wget...\"\n",
    "    wget -qO- --timeout=10 \"https://$CONTAINER_APP_URL\" | head -c 200 || echo \"❌ Wget test failed\"\n",
    "    echo \"\"\n",
    "    echo \"\"\n",
    "fi\n",
    "\n",
    "echo \"✅ You can also open the URL in your browser: https://$CONTAINER_APP_URL\""
   ]
  },
  {
   "cell_type": "markdown",
   "id": "ddafd3dc",
   "metadata": {},
   "source": [
    "## 10. Verification Commands\n",
    "\n",
    "Run these commands to verify your deployment status and configuration."
   ]
  },
  {
   "cell_type": "code",
   "execution_count": null,
   "id": "1b40e49c",
   "metadata": {
    "vscode": {
     "languageId": "shellscript"
    }
   },
   "outputs": [],
   "source": [
    "# Check Container Apps Environment status\n",
    "az containerapp env show \\\n",
    "  --name $CONTAINER_APP_ENV \\\n",
    "  --resource-group $RESOURCE_GROUP \\\n",
    "  --query \"{name:name, location:location, provisioningState:properties.provisioningState}\" \\\n",
    "  --output table"
   ]
  },
  {
   "cell_type": "code",
   "execution_count": null,
   "id": "c4d9ab9c",
   "metadata": {
    "vscode": {
     "languageId": "shellscript"
    }
   },
   "outputs": [],
   "source": [
    "# Check Container App status\n",
    "az containerapp show \\\n",
    "  --name $CONTAINER_APP_NAME \\\n",
    "  --resource-group $RESOURCE_GROUP \\\n",
    "  --query \"{name:name, provisioningState:properties.provisioningState, fqdn:properties.configuration.ingress.fqdn, ingressType:properties.configuration.ingress.external}\" \\\n",
    "  --output table"
   ]
  },
  {
   "cell_type": "code",
   "execution_count": null,
   "id": "b5b8c344",
   "metadata": {
    "vscode": {
     "languageId": "shellscript"
    }
   },
   "outputs": [],
   "source": [
    "# Pause for user to play before tidying resources\n",
    "exit 1"
   ]
  },
  {
   "cell_type": "markdown",
   "id": "ac97bd67",
   "metadata": {},
   "source": [
    "## 11. Cleanup Resources\n",
    "\n",
    "When you're done with your public Container App setup, use the following commands to clean up the resources to avoid ongoing charges.\n",
    "\n",
    "**⚠️ Warning:** These commands will permanently delete your resources. Make sure you no longer need them before proceeding."
   ]
  },
  {
   "cell_type": "code",
   "execution_count": null,
   "id": "b96261e7",
   "metadata": {
    "vscode": {
     "languageId": "shellscript"
    }
   },
   "outputs": [],
   "source": [
    "# Delete the entire resource group (this will delete all resources)\n",
    "# ⚠️ This will delete ALL resources in the resource group!\n",
    "az group delete \\\n",
    "  --name $RESOURCE_GROUP \\\n",
    "  --yes --no-wait"
   ]
  },
  {
   "cell_type": "markdown",
   "id": "3de23fb8",
   "metadata": {},
   "source": [
    "## Summary\n",
    "\n",
    "🎉 **Congratulations!** You have successfully:\n",
    "\n",
    "1. ✅ Installed Azure CLI prerequisites\n",
    "2. ✅ Authenticated with Azure\n",
    "3. ✅ Set deployment variables\n",
    "4. ✅ Registered required resource providers\n",
    "5. ✅ Created a resource group\n",
    "6. ✅ Created a Container Apps environment\n",
    "7. ✅ Deployed a public containerized application with external ingress\n",
    "8. ✅ Retrieved the application URL\n",
    "9. ✅ Tested public connectivity\n",
    "10. ✅ Verified deployment status\n",
    "11. ✅ (Optional) Cleaned up resources\n",
    "\n",
    "## Key Differences from Private Setup\n",
    "\n",
    "- **Public Ingress**: Container App uses `--ingress external` for public internet access\n",
    "- **No VNet Integration**: Uses Azure's managed networking without custom VNet setup\n",
    "- **Direct Internet Access**: Application is directly accessible from the internet\n",
    "- **Simplified Architecture**: No private endpoints, DNS zones, or jumper containers needed\n",
    "- **Scale-to-Zero Architecture**: App can scale to zero when not in use, eliminating compute costs\n",
    "- **Simple Testing**: Direct HTTP access without requiring internal network connectivity\n",
    "\n",
    "## Cost Considerations\n",
    "\n",
    "**Daily Cost Estimate: ~$0.00 USD** (with no traffic)\n",
    "\n",
    "Key cost components:\n",
    "- **Container Apps**: $0.00 when scaled to zero (pay only when processing requests)\n",
    "- **Container Apps Environment**: Shared compute resources included in request billing\n",
    "- **No Additional Networking**: No private endpoints or DNS zones required\n",
    "\n",
    "## Next Steps\n",
    "\n",
    "- **Deploy your own container**: Replace the hello-world image with your own containerized application\n",
    "- **Configure custom domains**: Set up custom domain names for your Container Apps\n",
    "- **Implement CI/CD**: Set up automated deployments using GitHub Actions or Azure DevOps\n",
    "- **Add monitoring**: Configure Application Insights and Log Analytics for monitoring\n",
    "- **Scale testing**: Experiment with different replica counts and resource allocations\n",
    "- **Security hardening**: Add authentication, rate limiting, and other security measures\n",
    "- **Private deployment**: Try the private Container Apps deployment for internal applications\n",
    "\n",
    "For more advanced Container Apps features and private networking scenarios, check out the [Azure Container Apps documentation](https://docs.microsoft.com/azure/container-apps/)."
   ]
  }
 ],
 "metadata": {
  "kernelspec": {
   "display_name": "Bash",
   "language": "bash",
   "name": "bash"
  },
  "language_info": {
   "codemirror_mode": "shell",
   "file_extension": ".sh",
   "mimetype": "text/x-sh",
   "name": "bash"
  }
 },
 "nbformat": 4,
 "nbformat_minor": 5
}