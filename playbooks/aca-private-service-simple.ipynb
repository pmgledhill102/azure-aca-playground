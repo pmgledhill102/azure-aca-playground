{
 "cells": [
  {
   "cell_type": "markdown",
   "id": "0eba5a3d",
   "metadata": {},
   "source": [
    "# Simple Private Azure Container Apps Deployment Playbook\n",
    "\n",
    "This interactive notebook guides you through deploying a private Azure Container Apps service with VNet integration using Azure CLI commands. This simplified version skips private endpoints and DNS zones since apps in the same environment can communicate directly, also reducing cost.\n",
    "\n",
    "## Overview\n",
    "\n",
    "This notebook will help you:\n",
    "- Install Azure CLI prerequisites\n",
    "- Authenticate with Azure\n",
    "- Create a Virtual Network with proper subnet configuration\n",
    "- Deploy a private Container Apps Environment with VNet integration\n",
    "- Create a private Container App with internal ingress\n",
    "- Set up a jumper Container App for testing connectivity\n",
    "- Test internal app-to-app communication\n",
    "- Clean up resources when done\n",
    "\n",
    "**Note:** Apps in the same Container Apps environment can communicate using the internal DNS pattern: `https://<app-name>.internal.<env-name>.azurecontainerapps.io`"
   ]
  },
  {
   "cell_type": "markdown",
   "id": "ddf903ae",
   "metadata": {},
   "source": [
    "## 1. Install Azure CLI Prerequisites\n",
    "\n",
    "First, check that the Azure CLI and containerapps extension is installed correctly.\n",
    "\n",
    "If running in a devcontainer, this should all already be configured"
   ]
  },
  {
   "cell_type": "code",
   "execution_count": null,
   "id": "0a9a0e4f",
   "metadata": {},
   "outputs": [],
   "source": [
    "# Check Azure CLI Prerequisites\n",
    "echo \"🔍 Checking Azure CLI prerequisites...\"\n",
    "echo \"\"\n",
    "\n",
    "# Check if Azure CLI is installed\n",
    "if command -v az &> /dev/null; then\n",
    "    echo \"✅ Azure CLI is installed: $(az version --query '\"azure-cli\"' -o tsv)\"\n",
    "else\n",
    "    echo \"❌ ERROR: Azure CLI is not installed!\"\n",
    "    echo \"\"\n",
    "    echo \"📋 To install Azure CLI:\"\n",
    "    echo \"  • On macOS: brew install azure-cli\"\n",
    "    echo \"  • On Ubuntu/Debian: curl -sL https://aka.ms/InstallAzureCLIDeb | sudo bash\"\n",
    "    echo \"  • On Windows: winget install Microsoft.AzureCLI\"\n",
    "    echo \"  • Or visit: https://docs.microsoft.com/en-us/cli/azure/install-azure-cli\"\n",
    "    echo \"\"\n",
    "    exit 1\n",
    "fi\n",
    "\n",
    "# Check if Container Apps extension is installed\n",
    "if az extension list --query \"[?name=='containerapp'].name\" -o tsv | grep -q \"containerapp\"; then\n",
    "    echo \"✅ Container Apps extension is installed\"\n",
    "else\n",
    "    echo \"⚠️  WARNING: Container Apps extension is not installed!\"\n",
    "    echo \"\"\n",
    "    echo \"📋 To install the extension, run:\"\n",
    "    echo \"  az extension add --name containerapp --upgrade\"\n",
    "    echo \"\"\n",
    "fi\n",
    "\n",
    "echo \"\"\n",
    "echo \"🎯 Prerequisites check complete!\""
   ]
  },
  {
   "cell_type": "markdown",
   "id": "4ebd5f15",
   "metadata": {},
   "source": [
    "## 2. Configure Azure Authentication\n",
    "\n",
    "Login to Azure and verify your subscription context."
   ]
  },
  {
   "cell_type": "code",
   "execution_count": null,
   "id": "ebe9fc67",
   "metadata": {},
   "outputs": [],
   "source": [
    "# Login to Azure (only if not already logged in)\n",
    "if ! az account show >/dev/null 2>&1; then\n",
    "  echo \"Not logged in to Azure. Logging in... (sub selection disabled)\"\n",
    "  az config set core.login_experience_v2=off\n",
    "  az login\n",
    "else\n",
    "  echo \"Already logged in to Azure.\"\n",
    "fi"
   ]
  },
  {
   "cell_type": "markdown",
   "id": "055d7da7",
   "metadata": {},
   "source": [
    "## 3. Set Deployment Variables\n",
    "\n",
    "Define the configuration variables for your private Container App deployment. This simplified version doesn't need private endpoint or DNS zone variables."
   ]
  },
  {
   "cell_type": "code",
   "execution_count": null,
   "id": "f614a72a",
   "metadata": {},
   "outputs": [],
   "source": [
    "# Set variables for simplified private setup\n",
    "export LOCATION=\"uksouth\"\n",
    "export RESOURCE_GROUP=\"simple-private-container-apps-rg\"\n",
    "export VNET_NAME=\"simple-private-vnet\"\n",
    "export SUBNET_NAME=\"container-apps-subnet\"\n",
    "export CONTAINER_APP_ENV=\"simple-private-container-app-env\"\n",
    "export CONTAINER_APP_NAME=\"simple-private-hello-world-app\"\n",
    "export JUMPER_APP_NAME=\"simple-jumper-container-app\"\n",
    "\n",
    "# Display the variables\n",
    "echo \"Resource Group:     $RESOURCE_GROUP\"\n",
    "echo \"Location:           $LOCATION\"\n",
    "echo \"Virtual Network:    $VNET_NAME\"\n",
    "echo \"Subnet Name:        $SUBNET_NAME\"\n",
    "echo \"Container App Env:  $CONTAINER_APP_ENV\"\n",
    "echo \"Container App Name: $CONTAINER_APP_NAME\"\n",
    "echo \"Jumper App Name:    $JUMPER_APP_NAME\""
   ]
  },
  {
   "cell_type": "markdown",
   "id": "358db1b4",
   "metadata": {},
   "source": [
    "## 4. Register Resource Providers"
   ]
  },
  {
   "cell_type": "code",
   "execution_count": null,
   "id": "5f1adf16",
   "metadata": {},
   "outputs": [],
   "source": [
    "# Register resource providers\n",
    "echo \"🔄 Registering resource providers...\"\n",
    "\n",
    "az provider register --namespace Microsoft.OperationalInsights\n",
    "az provider register --namespace Microsoft.Network\n",
    "\n",
    "echo \"⏳ Waiting for resource providers to be registered...\"\n",
    "\n",
    "# Wait for Microsoft.OperationalInsights to be registered\n",
    "while [ \"$(az provider show --namespace Microsoft.OperationalInsights --query registrationState -o tsv)\" != \"Registered\" ]; do\n",
    "    echo \"  • Microsoft.OperationalInsights: $(az provider show --namespace Microsoft.OperationalInsights --query registrationState -o tsv)\"\n",
    "    sleep 10\n",
    "done\n",
    "\n",
    "# Wait for Microsoft.Network to be registered\n",
    "while [ \"$(az provider show --namespace Microsoft.Network --query registrationState -o tsv)\" != \"Registered\" ]; do\n",
    "    echo \"  • Microsoft.Network: $(az provider show --namespace Microsoft.Network --query registrationState -o tsv)\"\n",
    "    sleep 10\n",
    "done\n",
    "\n",
    "echo \"✅ All resource providers are now registered!\"\n",
    "echo \"  • Microsoft.OperationalInsights: Registered\"\n",
    "echo \"  • Microsoft.Network: Registered\""
   ]
  },
  {
   "cell_type": "markdown",
   "id": "4751da34",
   "metadata": {},
   "source": [
    "## 5. Create Azure Resource Group\n",
    "\n",
    "Create the resource group that will contain all your private Container App resources."
   ]
  },
  {
   "cell_type": "code",
   "execution_count": null,
   "id": "1e841401",
   "metadata": {},
   "outputs": [],
   "source": [
    "# Create resource group\n",
    "az group create \\\n",
    "  --name $RESOURCE_GROUP \\\n",
    "  --location $LOCATION"
   ]
  },
  {
   "cell_type": "markdown",
   "id": "7e79f750",
   "metadata": {},
   "source": [
    "## 6. Create Virtual Network and Subnets\n",
    "\n",
    "Create the Virtual Network with the required subnet configuration for Container Apps."
   ]
  },
  {
   "cell_type": "code",
   "execution_count": null,
   "id": "f2d1b9a0",
   "metadata": {},
   "outputs": [],
   "source": [
    "# Create Virtual Network\n",
    "az network vnet create \\\n",
    "  --name $VNET_NAME \\\n",
    "  --resource-group $RESOURCE_GROUP \\\n",
    "  --location $LOCATION \\\n",
    "  --address-prefixes 10.0.0.0/16"
   ]
  },
  {
   "cell_type": "code",
   "execution_count": null,
   "id": "a071bb08",
   "metadata": {},
   "outputs": [],
   "source": [
    "# Create subnet for Container Apps (requires minimum /21 prefix)\n",
    "az network vnet subnet create \\\n",
    "  --name $SUBNET_NAME \\\n",
    "  --resource-group $RESOURCE_GROUP \\\n",
    "  --vnet-name $VNET_NAME \\\n",
    "  --address-prefixes 10.0.0.0/21 \\\n",
    "  --delegations 'Microsoft.App/environments'"
   ]
  },
  {
   "cell_type": "code",
   "execution_count": null,
   "id": "acd29555",
   "metadata": {},
   "outputs": [],
   "source": [
    "# Get subnet ID for Container Apps Environment\n",
    "SUBNET_ID=$(az network vnet subnet show \\\n",
    "  --name $SUBNET_NAME \\\n",
    "  --resource-group $RESOURCE_GROUP \\\n",
    "  --vnet-name $VNET_NAME \\\n",
    "  --query id \\\n",
    "  --output tsv)\n",
    "echo \"SUBNET_ID=$SUBNET_ID\""
   ]
  },
  {
   "cell_type": "markdown",
   "id": "7df831e1",
   "metadata": {},
   "source": [
    "## 7. Create Private Container Apps Environment\n",
    "\n",
    "Create the Container Apps environment with VNet integration and internal-only access."
   ]
  },
  {
   "cell_type": "code",
   "execution_count": null,
   "id": "36051028",
   "metadata": {},
   "outputs": [],
   "source": [
    "# Create the Container Apps Environment with VNet integration\n",
    "az containerapp env create \\\n",
    "  --name $CONTAINER_APP_ENV \\\n",
    "  --resource-group $RESOURCE_GROUP \\\n",
    "  --location $LOCATION \\\n",
    "  --infrastructure-subnet-resource-id $SUBNET_ID \\\n",
    "  --internal-only true"
   ]
  },
  {
   "cell_type": "markdown",
   "id": "77376189",
   "metadata": {},
   "source": [
    "## 8. Deploy Private Container App\n",
    "\n",
    "Deploy the hello-world container application with internal ingress only."
   ]
  },
  {
   "cell_type": "code",
   "execution_count": null,
   "id": "5ad3c583",
   "metadata": {},
   "outputs": [],
   "source": [
    "# Create the Container App (internal only)\n",
    "az containerapp create \\\n",
    "  --name $CONTAINER_APP_NAME \\\n",
    "  --resource-group $RESOURCE_GROUP \\\n",
    "  --environment $CONTAINER_APP_ENV \\\n",
    "  --image mcr.microsoft.com/azuredocs/containerapps-helloworld:latest \\\n",
    "  --target-port 80 \\\n",
    "  --ingress internal \\\n",
    "  --min-replicas 0 \\\n",
    "  --max-replicas 5 \\\n",
    "  --cpu 0.25 \\\n",
    "  --memory 0.5Gi"
   ]
  },
  {
   "cell_type": "markdown",
   "id": "ce190a8d",
   "metadata": {},
   "source": [
    "## 9. Get Container App Internal URL\n",
    "\n",
    "Retrieve the internal URL of your deployed private container application."
   ]
  },
  {
   "cell_type": "code",
   "execution_count": null,
   "id": "604850aa",
   "metadata": {},
   "outputs": [],
   "source": [
    "# Get the Container App internal URL\n",
    "CONTAINER_APP_INTERNAL_URL=$(az containerapp show \\\n",
    "  --name $CONTAINER_APP_NAME \\\n",
    "  --resource-group $RESOURCE_GROUP \\\n",
    "  --query properties.configuration.ingress.fqdn \\\n",
    "  --output tsv)\n",
    "\n",
    "echo \"Container App Internal URL: https://$CONTAINER_APP_INTERNAL_URL\"\n",
    "echo \"Alternative Internal URL: https://$CONTAINER_APP_NAME.internal.$CONTAINER_APP_ENV.azurecontainerapps.io\""
   ]
  },
  {
   "cell_type": "markdown",
   "id": "f22b35a7",
   "metadata": {},
   "source": [
    "## 10. Create Jumper Container App for Testing\n",
    "\n",
    "Create a jumper container app that can be used to test connectivity to the private container app. Since both apps are in the same environment, they can communicate directly."
   ]
  },
  {
   "cell_type": "code",
   "execution_count": null,
   "id": "974bb7d8",
   "metadata": {},
   "outputs": [],
   "source": [
    "# Create the Jumper Container App with environment variables for testing\n",
    "az containerapp create \\\n",
    "  --name $JUMPER_APP_NAME \\\n",
    "  --resource-group $RESOURCE_GROUP \\\n",
    "  --environment $CONTAINER_APP_ENV \\\n",
    "  --image mcr.microsoft.com/azure-cli:latest \\\n",
    "  --command \"/bin/bash\" \\\n",
    "  --args \"-c\" \"timeout 600 bash -c 'while true; do sleep 30; done' && echo 'Jumper container shutting down after 10 minutes'\" \\\n",
    "  --env-vars \"APP_URL=https://$CONTAINER_APP_INTERNAL_URL\" \"ALT_APP_URL=https://$CONTAINER_APP_NAME.internal.$CONTAINER_APP_ENV.azurecontainerapps.io\" \\\n",
    "  --min-replicas 0 \\\n",
    "  --max-replicas 1 \\\n",
    "  --cpu 0.25 \\\n",
    "  --memory 0.5Gi"
   ]
  },
  {
   "cell_type": "markdown",
   "id": "617a1895",
   "metadata": {},
   "source": [
    "## 11. Test Internal Connectivity\n",
    "\n",
    "Use the jumper container app to test connectivity to your private Container App using the internal DNS."
   ]
  },
  {
   "cell_type": "code",
   "execution_count": null,
   "id": "7a6d4604",
   "metadata": {},
   "outputs": [],
   "source": [
    "# Output variables for shell testing\n",
    "echo \"======== VARS FOR SHELL =========\"\n",
    "echo \"CONTAINER_APP_INTERNAL_URL=$CONTAINER_APP_INTERNAL_URL\"\n",
    "echo \"ALTERNATIVE_URL=https://$CONTAINER_APP_NAME.internal.$CONTAINER_APP_ENV.azurecontainerapps.io\"\n",
    "echo \"=================================\"\n",
    "\n",
    "echo \"======== COMMANDS FOR SHELL =====\"\n",
    "echo \"# Test using the provided FQDN:\"\n",
    "echo \"curl -k \\$APP_URL\"\n",
    "echo \"\"\n",
    "echo \"# Test using the alternative internal pattern:\"\n",
    "echo \"curl -k \\$ALT_APP_URL\"\n",
    "echo \"=================================\""
   ]
  },
  {
   "cell_type": "markdown",
   "id": "77266e24",
   "metadata": {},
   "source": [
    "## 12. Interactive Testing\n",
    "\n",
    "Open an interactive shell in the jumper container to test connectivity manually."
   ]
  },
  {
   "cell_type": "code",
   "execution_count": null,
   "id": "2eba765b",
   "metadata": {},
   "outputs": [],
   "source": [
    "# Test connectivity using interactive shell (run this in a separate terminal)\n",
    "# This will open an interactive session in the jumper container\n",
    "az containerapp exec \\\n",
    "  --name $JUMPER_APP_NAME \\\n",
    "  --resource-group $RESOURCE_GROUP \\\n",
    "  --command \"/bin/bash\""
   ]
  },
  {
   "cell_type": "markdown",
   "id": "ba740d80",
   "metadata": {},
   "source": [
    "## 13. Verification Commands\n",
    "\n",
    "Run these commands to verify your deployment status and configuration."
   ]
  },
  {
   "cell_type": "code",
   "execution_count": null,
   "id": "594c9051",
   "metadata": {},
   "outputs": [],
   "source": [
    "# Check Container Apps Environment status\n",
    "az containerapp env show \\\n",
    "  --name $CONTAINER_APP_ENV \\\n",
    "  --resource-group $RESOURCE_GROUP \\\n",
    "  --query \"{name:name, location:location, vnetConfiguration:vnetConfiguration}\" \\\n",
    "  --output table"
   ]
  },
  {
   "cell_type": "code",
   "execution_count": null,
   "id": "12ed3ed2",
   "metadata": {},
   "outputs": [],
   "source": [
    "# Check Container App status\n",
    "az containerapp show \\\n",
    "  --name $CONTAINER_APP_NAME \\\n",
    "  --resource-group $RESOURCE_GROUP \\\n",
    "  --query \"{name:name, provisioningState:properties.provisioningState, fqdn:properties.configuration.ingress.fqdn}\" \\\n",
    "  --output table"
   ]
  },
  {
   "cell_type": "code",
   "execution_count": null,
   "id": "c1e98c9d",
   "metadata": {},
   "outputs": [],
   "source": [
    "# Check Jumper Container App status\n",
    "az containerapp show \\\n",
    "  --name $JUMPER_APP_NAME \\\n",
    "  --resource-group $RESOURCE_GROUP \\\n",
    "  --query \"{name:name, provisioningState:properties.provisioningState, replicas:properties.template.scale}\" \\\n",
    "  --output table"
   ]
  },
  {
   "cell_type": "markdown",
   "id": "636babb9",
   "metadata": {},
   "source": [
    "## 14. Testing Guide\n",
    "\n",
    "Now you have a simplified private container app setup. You can exec into the 'jumper' container and test connectivity.\n",
    "\n",
    "To exec into the jumper run:\n",
    "\n",
    "```bash\n",
    "az containerapp exec \\\n",
    "   --name $JUMPER_APP_NAME \\\n",
    "   --resource-group $RESOURCE_GROUP \\\n",
    "   --command \"/bin/bash\"\n",
    "```\n",
    "\n",
    "Then to make a CURL against the app container, you can use either:\n",
    "\n",
    "```bash\n",
    "# Using the provided environment variable:\n",
    "curl $APP_URL\n",
    "\n",
    "# Using the alternative internal DNS pattern:\n",
    "curl $ALT_APP_URL\n",
    "\n",
    "# Or manually specify the URL:\n",
    "curl https://simple-private-hello-world-app.internal.simple-private-container-app-env.azurecontainerapps.io\n",
    "```\n",
    "\n",
    "**Key Benefits of this simplified approach:**\n",
    "- No private endpoints needed for app-to-app communication\n",
    "- No private DNS zones required\n",
    "- Lower cost and complexity\n",
    "- Still maintains network isolation with VNet integration\n",
    "- Apps can communicate using built-in internal DNS"
   ]
  },
  {
   "cell_type": "markdown",
   "id": "de21e9ce",
   "metadata": {},
   "source": [
    "## 15. Cleanup Resources\n",
    "\n",
    "When you're done with your private Container App setup, use the following commands to clean up the resources to avoid ongoing charges.\n",
    "\n",
    "**⚠️ Warning:** These commands will permanently delete your resources. Make sure you no longer need them before proceeding."
   ]
  },
  {
   "cell_type": "code",
   "execution_count": null,
   "id": "667ddbb5",
   "metadata": {},
   "outputs": [],
   "source": [
    "# Delete the entire resource group (this will delete all resources)\n",
    "# ⚠️ This will delete ALL resources in the resource group!\n",
    "az group delete \\\n",
    "  --name $RESOURCE_GROUP \\\n",
    "  --yes --no-wait"
   ]
  },
  {
   "cell_type": "markdown",
   "id": "cd6d6aaa",
   "metadata": {},
   "source": [
    "## Summary\n",
    "\n",
    "🎉 **Congratulations!** You have successfully created a simplified private Container Apps setup:\n",
    "\n",
    "1. ✅ Installed Azure CLI prerequisites\n",
    "2. ✅ Authenticated with Azure\n",
    "3. ✅ Set deployment variables\n",
    "4. ✅ Registered required resource providers\n",
    "5. ✅ Created a resource group\n",
    "6. ✅ Created a virtual network with proper subnet configuration\n",
    "7. ✅ Created a private Container Apps environment with VNet integration\n",
    "8. ✅ Deployed a private containerized application with internal ingress\n",
    "9. ✅ Retrieved the internal URL of your container app\n",
    "10. ✅ Created a jumper container app for testing\n",
    "11. ✅ Tested internal app-to-app connectivity\n",
    "12. ✅ Verified deployment status\n",
    "13. ✅ (Optional) Cleaned up resources\n",
    "\n",
    "## Key Simplifications vs Full Private Setup\n",
    "\n",
    "- **No Private Endpoints**: Apps in the same environment can communicate directly\n",
    "- **No Private DNS Zones**: Uses built-in internal DNS resolution\n",
    "- **Lower Cost**: Eliminates ~$26/month in private endpoint and DNS zone costs\n",
    "- **Simpler Architecture**: Fewer components to manage and troubleshoot\n",
    "- **Same Security**: Still maintains VNet isolation and internal-only access\n",
    "\n",
    "## Cost Comparison\n",
    "\n",
    "**Simplified Setup: ~$0.00 USD/day** (with no traffic)\n",
    "- Container Apps: $0.00 when scaled to zero\n",
    "- VNet: Free for basic usage\n",
    "- No private endpoint or DNS zone costs\n",
    "\n",
    "vs.\n",
    "\n",
    "**Full Private Setup: ~$1.81 USD/day**\n",
    "- Private Endpoint: $0.36/day\n",
    "- Private DNS Zone: $1.20/day\n",
    "- Container Apps: $0.00 when scaled to zero\n",
    "\n",
    "## Internal DNS Pattern\n",
    "\n",
    "Apps in the same Container Apps environment can reach each other using:\n",
    "```\n",
    "https://<app-name>.internal.<environment-name>.azurecontainerapps.io\n",
    "```\n",
    "\n",
    "This works because:\n",
    "- All apps in the same environment share the same VNet\n",
    "- Container Apps provides built-in service discovery\n",
    "- No additional DNS configuration needed\n",
    "\n",
    "## Next Steps\n",
    "\n",
    "- **Deploy your own container**: Replace the hello-world image with your own application\n",
    "- **Add more services**: Deploy additional container apps that communicate with each other\n",
    "- **Implement CI/CD**: Set up automated deployments\n",
    "- **Add monitoring**: Configure Application Insights for observability\n",
    "- **Scale testing**: Experiment with different replica counts and auto-scaling rules\n",
    "\n",
    "For more information, check out the [Azure Container Apps documentation](https://docs.microsoft.com/azure/container-apps/)."
   ]
  }
 ],
 "metadata": {
  "language_info": {
   "name": "python"
  }
 },
 "nbformat": 4,
 "nbformat_minor": 5
}
